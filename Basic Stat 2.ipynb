{
 "cells": [
  {
   "cell_type": "code",
   "execution_count": 27,
   "id": "b5ea3a8b-441b-405a-b4cf-2b1ace07fcde",
   "metadata": {},
   "outputs": [],
   "source": [
    "import pandas as pd \n",
    "import numpy as np\n",
    "import scipy.stats as stats"
   ]
  },
  {
   "cell_type": "code",
   "execution_count": 28,
   "id": "b9d97e1e-c4b8-4a3f-8792-5f129ec174ef",
   "metadata": {},
   "outputs": [],
   "source": [
    "data = [1.13, 1.55, 1.43, 0.92, 1.25, 1.36, 1.32, 0.85, 1.07, 1.48, 1.20, 1.33, 1.18, 1.22, 1.29]"
   ]
  },
  {
   "cell_type": "code",
   "execution_count": 29,
   "id": "93385047-a7d6-49d8-a7fb-e263e284728f",
   "metadata": {},
   "outputs": [],
   "source": [
    "n = len(data)"
   ]
  },
  {
   "cell_type": "code",
   "execution_count": 30,
   "id": "bc413271-de37-473a-8ff3-2564fc60ff22",
   "metadata": {},
   "outputs": [
    {
     "data": {
      "text/plain": [
       "15"
      ]
     },
     "execution_count": 30,
     "metadata": {},
     "output_type": "execute_result"
    }
   ],
   "source": [
    "n"
   ]
  },
  {
   "cell_type": "code",
   "execution_count": 31,
   "id": "dd7997cc-c31e-4432-9922-5a24b666052b",
   "metadata": {},
   "outputs": [],
   "source": [
    "sample_mean = np.mean(data)"
   ]
  },
  {
   "cell_type": "code",
   "execution_count": 32,
   "id": "aa0dda3d-f4a8-448a-94e5-5959cdb302cb",
   "metadata": {},
   "outputs": [
    {
     "data": {
      "text/plain": [
       "1.2386666666666666"
      ]
     },
     "execution_count": 32,
     "metadata": {},
     "output_type": "execute_result"
    }
   ],
   "source": [
    "sample_mean"
   ]
  },
  {
   "cell_type": "code",
   "execution_count": 33,
   "id": "5efe33ed-b137-43c7-a13f-8871bef67800",
   "metadata": {},
   "outputs": [],
   "source": [
    "sample_std = np.std(data, ddof=1)"
   ]
  },
  {
   "cell_type": "code",
   "execution_count": 34,
   "id": "e2c7d776-948b-47fd-8da1-14e0c28b2cc6",
   "metadata": {},
   "outputs": [
    {
     "data": {
      "text/plain": [
       "0.19316412956959936"
      ]
     },
     "execution_count": 34,
     "metadata": {},
     "output_type": "execute_result"
    }
   ],
   "source": [
    "sample_std "
   ]
  },
  {
   "cell_type": "code",
   "execution_count": 35,
   "id": "82580e4d-1b09-49d9-8e89-989392648b0f",
   "metadata": {},
   "outputs": [],
   "source": [
    "confidence_level_99 = 0.99\n",
    "alpha_99 = 1 - confidence_level_99"
   ]
  },
  {
   "cell_type": "code",
   "execution_count": 36,
   "id": "4907e107-730b-4061-ac27-936f1936d18d",
   "metadata": {},
   "outputs": [
    {
     "data": {
      "text/plain": [
       "0.010000000000000009"
      ]
     },
     "execution_count": 36,
     "metadata": {},
     "output_type": "execute_result"
    }
   ],
   "source": [
    "alpha_99"
   ]
  },
  {
   "cell_type": "code",
   "execution_count": 37,
   "id": "330294a8-fb02-4311-9466-0e4ad401b283",
   "metadata": {},
   "outputs": [],
   "source": [
    "#degree of freedom\n",
    "df = n - 1"
   ]
  },
  {
   "cell_type": "code",
   "execution_count": 13,
   "id": "e19285d6-dc02-4197-9d3d-4b66f5b81b07",
   "metadata": {},
   "outputs": [
    {
     "data": {
      "text/plain": [
       "14"
      ]
     },
     "execution_count": 13,
     "metadata": {},
     "output_type": "execute_result"
    }
   ],
   "source": [
    "df"
   ]
  },
  {
   "cell_type": "code",
   "execution_count": 38,
   "id": "6d799041-6f1f-4533-9376-7a918bfc8720",
   "metadata": {},
   "outputs": [],
   "source": [
    "t_value= stats.t.ppf(1 - alpha_99 / 2, df)"
   ]
  },
  {
   "cell_type": "code",
   "execution_count": 39,
   "id": "dddbdbeb-dfaa-4006-9c7c-be997f776b97",
   "metadata": {},
   "outputs": [
    {
     "data": {
      "text/plain": [
       "2.97684273411266"
      ]
     },
     "execution_count": 39,
     "metadata": {},
     "output_type": "execute_result"
    }
   ],
   "source": [
    "t_value"
   ]
  },
  {
   "cell_type": "code",
   "execution_count": 40,
   "id": "779fdcd4-b7d6-4c8d-b0ed-2e66f5052bcc",
   "metadata": {},
   "outputs": [],
   "source": [
    "error_r = t_value * (sample_std / np.sqrt(n))"
   ]
  },
  {
   "cell_type": "code",
   "execution_count": 41,
   "id": "5f37fb56-d836-4a34-91c8-952dc4050d8a",
   "metadata": {},
   "outputs": [
    {
     "data": {
      "text/plain": [
       "0.1484693282152996"
      ]
     },
     "execution_count": 41,
     "metadata": {},
     "output_type": "execute_result"
    }
   ],
   "source": [
    "error_r"
   ]
  },
  {
   "cell_type": "code",
   "execution_count": 42,
   "id": "9a9f5157-8966-4a2d-9e29-573e8196ca3b",
   "metadata": {},
   "outputs": [],
   "source": [
    "confidence_interval_99 = (sample_mean - error_r, sample_mean + error_r)"
   ]
  },
  {
   "cell_type": "code",
   "execution_count": 26,
   "id": "32698568-552d-4188-a755-159640c86f09",
   "metadata": {},
   "outputs": [
    {
     "data": {
      "text/plain": [
       "(1.090197338451367, 1.3871359948819662)"
      ]
     },
     "execution_count": 26,
     "metadata": {},
     "output_type": "execute_result"
    }
   ],
   "source": [
    "confidence_interval_99"
   ]
  },
  {
   "cell_type": "code",
   "execution_count": 43,
   "id": "388b7ec7-9393-4e73-a035-96781483e9bb",
   "metadata": {},
   "outputs": [
    {
     "data": {
      "text/plain": [
       "(1.2386666666666666,\n",
       " 0.19316412956959936,\n",
       " (1.090197338451367, 1.3871359948819662))"
      ]
     },
     "execution_count": 43,
     "metadata": {},
     "output_type": "execute_result"
    }
   ],
   "source": [
    "sample_mean, sample_std, confidence_interval_99"
   ]
  },
  {
   "cell_type": "raw",
   "id": "3f011460-3ac5-41c3-a0c7-cfce9c0db4be",
   "metadata": {},
   "source": [
    "Answer 2"
   ]
  },
  {
   "cell_type": "code",
   "execution_count": 58,
   "id": "19b3e596-b7ea-4cf5-bc41-cacef4cb4f54",
   "metadata": {},
   "outputs": [],
   "source": [
    "popul_sd = 0.2"
   ]
  },
  {
   "cell_type": "code",
   "execution_count": 56,
   "id": "e8a980e9-73e0-4266-af42-fa1791155f31",
   "metadata": {},
   "outputs": [
    {
     "data": {
      "text/plain": [
       "1.2386666666666666"
      ]
     },
     "execution_count": 56,
     "metadata": {},
     "output_type": "execute_result"
    }
   ],
   "source": [
    "sample_mean = np.mean(data)\n",
    "sample_mean"
   ]
  },
  {
   "cell_type": "code",
   "execution_count": 55,
   "id": "49f89de8-e22c-452c-81df-796bb1b90f6d",
   "metadata": {},
   "outputs": [],
   "source": [
    "confidence_99 = 0.99\n",
    "alpha_99 = 1 - confidence_99 "
   ]
  },
  {
   "cell_type": "code",
   "execution_count": 49,
   "id": "874561cd-2cca-41d9-8831-53cf46bda070",
   "metadata": {},
   "outputs": [
    {
     "data": {
      "text/plain": [
       "2.5758293035489004"
      ]
     },
     "execution_count": 49,
     "metadata": {},
     "output_type": "execute_result"
    }
   ],
   "source": [
    "z_value = stats.norm.ppf(1 - alpha_99 / 2)\n",
    "z_value"
   ]
  },
  {
   "cell_type": "code",
   "execution_count": 59,
   "id": "a16253a5-f759-4a58-a08b-42130fadfe8f",
   "metadata": {},
   "outputs": [
    {
     "data": {
      "text/plain": [
       "0.13301525327090588"
      ]
     },
     "execution_count": 59,
     "metadata": {},
     "output_type": "execute_result"
    }
   ],
   "source": [
    "error = z_value  * (popul_sd / np.sqrt(n))\n",
    "error "
   ]
  },
  {
   "cell_type": "code",
   "execution_count": 63,
   "id": "768e883f-1c84-49b8-b807-4f8bc7ef89b9",
   "metadata": {},
   "outputs": [
    {
     "data": {
      "text/plain": [
       "(1.1056514133957607, 1.3716819199375725)"
      ]
     },
     "execution_count": 63,
     "metadata": {},
     "output_type": "execute_result"
    }
   ],
   "source": [
    "confidence_99 = (sample_mean - error, sample_mean + error)\n",
    "confidence_99 "
   ]
  },
  {
   "cell_type": "code",
   "execution_count": 64,
   "id": "264b7751-1084-46c8-a4e4-e69e972586e3",
   "metadata": {},
   "outputs": [
    {
     "data": {
      "text/plain": [
       "(1.2386666666666666, 0.2, (1.1056514133957607, 1.3716819199375725))"
      ]
     },
     "execution_count": 64,
     "metadata": {},
     "output_type": "execute_result"
    }
   ],
   "source": [
    "sample_mean, popul_sd ,confidence_99 "
   ]
  },
  {
   "cell_type": "code",
   "execution_count": null,
   "id": "32c1e868-4682-4c05-998a-e29f18891f82",
   "metadata": {},
   "outputs": [],
   "source": []
  }
 ],
 "metadata": {
  "kernelspec": {
   "display_name": "Python 3 (ipykernel)",
   "language": "python",
   "name": "python3"
  },
  "language_info": {
   "codemirror_mode": {
    "name": "ipython",
    "version": 3
   },
   "file_extension": ".py",
   "mimetype": "text/x-python",
   "name": "python",
   "nbconvert_exporter": "python",
   "pygments_lexer": "ipython3",
   "version": "3.11.7"
  }
 },
 "nbformat": 4,
 "nbformat_minor": 5
}
