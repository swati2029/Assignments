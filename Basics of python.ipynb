{
 "cells": [
  {
   "cell_type": "code",
   "execution_count": 51,
   "id": "6e293cfc-e959-4133-a648-ac32f50014ad",
   "metadata": {},
   "outputs": [
    {
     "name": "stdin",
     "output_type": "stream",
     "text": [
      "Enter a number:  7\n"
     ]
    }
   ],
   "source": [
    "num = int(input(\"Enter a number: \"))"
   ]
  },
  {
   "cell_type": "code",
   "execution_count": 53,
   "id": "f343204f-9cf9-4a3f-bb00-71990254ce6b",
   "metadata": {},
   "outputs": [
    {
     "name": "stdout",
     "output_type": "stream",
     "text": [
      "7 is a prime number\n"
     ]
    }
   ],
   "source": [
    "if num <= 1:\n",
    "     for i in range(2,num):\n",
    "          print(num,\"is not a prime number\")\n",
    "\n",
    "else:\n",
    "   print(num,\"is a prime number\")         "
   ]
  },
  {
   "cell_type": "code",
   "execution_count": null,
   "id": "fda8005d-d02d-4aca-b165-e8980c291a69",
   "metadata": {},
   "outputs": [],
   "source": []
  },
  {
   "cell_type": "code",
   "execution_count": null,
   "id": "0d53d6b9-3a85-4d69-a470-95063e8b46b1",
   "metadata": {},
   "outputs": [],
   "source": []
  },
  {
   "cell_type": "markdown",
   "id": "1df32542-5edb-493f-a8df-55f5d94cd37c",
   "metadata": {},
   "source": [
    "#####Exercise 2#####\n"
   ]
  },
  {
   "cell_type": "code",
   "execution_count": 54,
   "id": "10bced99-6fe3-4c12-89a0-e2de13706dc0",
   "metadata": {},
   "outputs": [],
   "source": [
    "import random"
   ]
  },
  {
   "cell_type": "code",
   "execution_count": 71,
   "id": "816c2b08-0b88-4daa-9066-51a0160e5971",
   "metadata": {},
   "outputs": [],
   "source": [
    "n1 = random.randint(1,20)\n",
    "n2 = random.randint(1,20)"
   ]
  },
  {
   "cell_type": "code",
   "execution_count": 72,
   "id": "b5c70540-28f1-44b9-a9e4-a9eb25afd38f",
   "metadata": {},
   "outputs": [],
   "source": [
    "ans = n1 + n2"
   ]
  },
  {
   "cell_type": "code",
   "execution_count": 73,
   "id": "bc6e1f1c-3a60-4b97-b323-b7de84fc2377",
   "metadata": {},
   "outputs": [
    {
     "name": "stdin",
     "output_type": "stream",
     "text": [
      "What is the product of 7 and 19?  34\n"
     ]
    }
   ],
   "source": [
    "user_ans= int(input(f\"What is the product of {n1} and {n2}? \"))"
   ]
  },
  {
   "cell_type": "code",
   "execution_count": 74,
   "id": "50840aaa-4643-474e-ae27-5bfce6e8af1f",
   "metadata": {},
   "outputs": [
    {
     "name": "stdout",
     "output_type": "stream",
     "text": [
      "Incorrect Answer Try Again..!\n"
     ]
    }
   ],
   "source": [
    "if user_ans == ans:\n",
    "     print(\"Correct! Well done.\")\n",
    "else:\n",
    "    print('Incorrect Answer Try Again..!')\n"
   ]
  },
  {
   "cell_type": "code",
   "execution_count": null,
   "id": "d6911ee2-56df-49a1-a331-382f35b1681d",
   "metadata": {},
   "outputs": [],
   "source": []
  },
  {
   "cell_type": "code",
   "execution_count": null,
   "id": "1a4b7247-5fb6-42f7-b646-3406c88fdd87",
   "metadata": {},
   "outputs": [],
   "source": []
  },
  {
   "cell_type": "markdown",
   "id": "d072755b-893f-4ba3-ac33-3a0397e612aa",
   "metadata": {},
   "source": [
    "#####Exercise 3#####"
   ]
  },
  {
   "cell_type": "code",
   "execution_count": 96,
   "id": "f0cafd16-ff41-43ae-8800-edbef8d1bdd2",
   "metadata": {},
   "outputs": [
    {
     "name": "stdout",
     "output_type": "stream",
     "text": [
      "The square of 100 is 10000.\n",
      "The square of 102 is 10404.\n",
      "The square of 104 is 10816.\n",
      "The square of 106 is 11236.\n",
      "The square of 108 is 11664.\n",
      "The square of 110 is 12100.\n",
      "The square of 112 is 12544.\n",
      "The square of 114 is 12996.\n",
      "The square of 116 is 13456.\n",
      "The square of 118 is 13924.\n",
      "The square of 120 is 14400.\n",
      "The square of 122 is 14884.\n",
      "The square of 124 is 15376.\n",
      "The square of 126 is 15876.\n",
      "The square of 128 is 16384.\n",
      "The square of 130 is 16900.\n",
      "The square of 132 is 17424.\n",
      "The square of 134 is 17956.\n",
      "The square of 136 is 18496.\n",
      "The square of 138 is 19044.\n",
      "The square of 140 is 19600.\n",
      "The square of 142 is 20164.\n",
      "The square of 144 is 20736.\n",
      "The square of 146 is 21316.\n",
      "The square of 148 is 21904.\n",
      "The square of 150 is 22500.\n",
      "The square of 152 is 23104.\n",
      "The square of 154 is 23716.\n",
      "The square of 156 is 24336.\n",
      "The square of 158 is 24964.\n",
      "The square of 160 is 25600.\n",
      "The square of 162 is 26244.\n",
      "The square of 164 is 26896.\n",
      "The square of 166 is 27556.\n",
      "The square of 168 is 28224.\n",
      "The square of 170 is 28900.\n",
      "The square of 172 is 29584.\n",
      "The square of 174 is 30276.\n",
      "The square of 176 is 30976.\n",
      "The square of 178 is 31684.\n",
      "The square of 180 is 32400.\n",
      "The square of 182 is 33124.\n",
      "The square of 184 is 33856.\n",
      "The square of 186 is 34596.\n",
      "The square of 188 is 35344.\n",
      "The square of 190 is 36100.\n",
      "The square of 192 is 36864.\n",
      "The square of 194 is 37636.\n",
      "The square of 196 is 38416.\n",
      "The square of 198 is 39204.\n"
     ]
    }
   ],
   "source": [
    "for number in range(100, 200):\n",
    "    if number % 2 == 0:\n",
    "        square = number ** 2\n",
    "        print(f\"The square of {number} is {square}.\")\n",
    "      "
   ]
  },
  {
   "cell_type": "code",
   "execution_count": null,
   "id": "6eb72baa-65d6-40cb-979c-11e51736babf",
   "metadata": {},
   "outputs": [],
   "source": []
  },
  {
   "cell_type": "code",
   "execution_count": null,
   "id": "e698ea96-f145-4f3e-a358-b3c71d485ef9",
   "metadata": {},
   "outputs": [],
   "source": []
  },
  {
   "cell_type": "markdown",
   "id": "867d2726-c813-4767-992d-5dc1016ff5c7",
   "metadata": {},
   "source": [
    "#### Exercise 4#####"
   ]
  },
  {
   "cell_type": "code",
   "execution_count": 107,
   "id": "05b008f0-455b-4343-b001-4b9a71f3f5bf",
   "metadata": {},
   "outputs": [
    {
     "name": "stdout",
     "output_type": "stream",
     "text": [
      "'this': 2\n",
      "'is': 1\n",
      "'a': 1\n",
      "'sample': 1\n",
      "'text': 2\n",
      "'will': 1\n",
      "'be': 1\n",
      "'used': 1\n",
      "'to': 1\n",
      "'demonstrate': 1\n",
      "'the': 1\n",
      "'word': 1\n",
      "'counter': 1\n"
     ]
    }
   ],
   "source": [
    "from collections import Counter\n",
    "import re\n",
    "\n",
    "def count_words(input_text):\n",
    "   \n",
    "    words = re.findall(r'\\b\\w+\\b', input_text.lower())\n",
    "     \n",
    "    word_counts = Counter(words)\n",
    "    \n",
    " \n",
    "    for word, count in word_counts.items():\n",
    "        print(f\"'{word}': {count}\")\n",
    "\n",
    "input_text = \"This is a sample text. This text will be used to demonstrate the word counter.\"\n",
    "count_words(input_text)\n"
   ]
  },
  {
   "cell_type": "code",
   "execution_count": null,
   "id": "ff9f7fa5-db9f-426c-9bed-6d52c0369659",
   "metadata": {},
   "outputs": [],
   "source": []
  },
  {
   "cell_type": "markdown",
   "id": "676d7fa4-1416-4548-b34f-020cf7fae790",
   "metadata": {},
   "source": [
    "#####Exercise 5#####"
   ]
  },
  {
   "cell_type": "code",
   "execution_count": 110,
   "id": "9f502566-7860-43d4-b701-2c2485e4cec7",
   "metadata": {},
   "outputs": [
    {
     "name": "stdout",
     "output_type": "stream",
     "text": [
      "Yes\n"
     ]
    }
   ],
   "source": [
    "def isPalindrome(s):\n",
    "    return s == s[::-1]\n",
    "\n",
    "s = \"racecar\"\n",
    "ans = isPalindrome(s)\n",
    "\n",
    "if ans:\n",
    "    print(\"Yes\")\n",
    "else:\n",
    "    print(\"No\")"
   ]
  },
  {
   "cell_type": "code",
   "execution_count": null,
   "id": "40e98b7d-e1ff-45a7-97a9-1741444deca9",
   "metadata": {},
   "outputs": [],
   "source": []
  }
 ],
 "metadata": {
  "kernelspec": {
   "display_name": "Python 3 (ipykernel)",
   "language": "python",
   "name": "python3"
  },
  "language_info": {
   "codemirror_mode": {
    "name": "ipython",
    "version": 3
   },
   "file_extension": ".py",
   "mimetype": "text/x-python",
   "name": "python",
   "nbconvert_exporter": "python",
   "pygments_lexer": "ipython3",
   "version": "3.11.7"
  }
 },
 "nbformat": 4,
 "nbformat_minor": 5
}
